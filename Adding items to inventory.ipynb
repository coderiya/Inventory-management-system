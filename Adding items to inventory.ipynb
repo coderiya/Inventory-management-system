{
 "cells": [
  {
   "cell_type": "markdown",
   "metadata": {},
   "source": [
    "# Reading data from Json File"
   ]
  },
  {
   "cell_type": "code",
   "execution_count": null,
   "metadata": {},
   "outputs": [],
   "source": [
    "fd = open(\"Records.json\", 'r')\n",
    "r = fd.read()\n",
    "fd.close()"
   ]
  },
  {
   "cell_type": "code",
   "execution_count": null,
   "metadata": {},
   "outputs": [],
   "source": [
    "import json\n",
    "\n",
    "record = json.loads(r)"
   ]
  },
  {
   "cell_type": "markdown",
   "metadata": {},
   "source": [
    "# Adding items to Inventory"
   ]
  },
  {
   "cell_type": "code",
   "execution_count": null,
   "metadata": {},
   "outputs": [],
   "source": [
    "exit = False\n",
    "while exit == False : \n",
    "        print(\"\\n\\n=======================Inventory Management System===========================\")\n",
    "        print(\"1. Add new product. \")\n",
    "        print(\"2. Update product details\")\n",
    "        print(\"3. Delete product\")\n",
    "        print(\"4. Exit\")\n",
    "        i = int(input(\"Enter your choice : \"))\n",
    "        \n",
    "        if(i==1):\n",
    "            print(\"\\nEnter product details : \")\n",
    "            prod_id = str(input(\"Product id : \"))\n",
    "            name = str(input(\"Product name : \"))\n",
    "            price = int(input(\"Price : \"))\n",
    "            quantity = int(input(\"Quantity \"))\n",
    "\n",
    "            record[prod_id] = {'name': name, 'pr' : price, 'qn' : quantity}\n",
    "\n",
    "        elif(i==2):\n",
    "            print(\"\\nEnter product details : \")\n",
    "            prod_id = str(input(\"Product id : \"))\n",
    "            name = str(input(\"Product name : \"))\n",
    "            pr = int(input(\"Price : \"))\n",
    "            qn = int(input(\"Quantity \"))\n",
    "            quantity = qn + record[prod_id]['qn']\n",
    "\n",
    "            record[prod_id] = {'name': name, 'pr' : pr, 'qn' : quantity}\n",
    "\n",
    "        elif(i==3):\n",
    "            x = str(input(\"\\nEnter id of product to be deleted : \"))\n",
    "            del record[x]\n",
    "            \n",
    "        elif(i==4):\n",
    "            exit = True\n",
    "            print(\"\\nExited successfully!!!\")\n",
    "        \n",
    "        else:\n",
    "            print(\"\\nInvalid Input!!!\")\n",
    "            exit = True\n",
    "\n"
   ]
  },
  {
   "cell_type": "markdown",
   "metadata": {},
   "source": [
    "# Updating the Json file"
   ]
  },
  {
   "cell_type": "code",
   "execution_count": null,
   "metadata": {},
   "outputs": [],
   "source": [
    "js = json.dumps(record)\n",
    "\n",
    "fd = open(\"Records.json\", 'w')\n",
    "fd.write(js)\n",
    "fd.close()"
   ]
  }
 ],
 "metadata": {
  "kernelspec": {
   "display_name": "Python 3",
   "language": "python",
   "name": "python3"
  },
  "language_info": {
   "codemirror_mode": {
    "name": "ipython",
    "version": 3
   },
   "file_extension": ".py",
   "mimetype": "text/x-python",
   "name": "python",
   "nbconvert_exporter": "python",
   "pygments_lexer": "ipython3",
   "version": "3.8.5"
  }
 },
 "nbformat": 4,
 "nbformat_minor": 4
}
