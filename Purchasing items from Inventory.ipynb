{
 "cells": [
  {
   "cell_type": "markdown",
   "metadata": {},
   "source": [
    "# Reading records from Inventory"
   ]
  },
  {
   "cell_type": "code",
   "execution_count": null,
   "metadata": {},
   "outputs": [],
   "source": [
    "import json\n",
    "\n",
    "fd = open(\"Records.json\", 'r')\n",
    "r = fd.read()\n",
    "fd.close()\n",
    "\n",
    "record = json.loads(r)\n",
    "\n",
    "sf = open(\"sales.json\", 'r')\n",
    "sr = sf.read()\n",
    "sf.close()\n",
    "\n",
    "Sales = json.loads(sr)\n"
   ]
  },
  {
   "cell_type": "markdown",
   "metadata": {},
   "source": [
    "# Purchasing items"
   ]
  },
  {
   "cell_type": "code",
   "execution_count": null,
   "metadata": {},
   "outputs": [],
   "source": [
    "from datetime import datetime\n",
    "\n",
    "flag = True\n",
    "bill_amount = 0\n",
    "\n",
    "while flag == True :\n",
    "    prod_id = str(input(\"\\n\\nProduct Id : \"))\n",
    "    print(\"Name : \" + record[prod_id]['name'])\n",
    "    print(\"Price : \" + str(record[prod_id]['pr']))\n",
    "    print(\"Quantity Available : \" + str(record[prod_id]['qn']))\n",
    "    \n",
    "    qn = int(input(\"Quantity you want to buy : \"))\n",
    "    if(qn > str(record[prod_id]['qn'])):\n",
    "        print(\"Sorry!!! Quantity of products requested is currently not available in the inventory.\")\n",
    "        qn = str(record[prod_id]['qn'])  # As number of items requested is not available, we will sell no. of products available in the inventory.\n",
    "        \n",
    "    total_price = record[prod_id]['pr'] * qn\n",
    "    print(\"Total Price : \" + str(total_price))\n",
    "    \n",
    "    record[prod_id]['qn'] = record[prod_id]['qn'] - qn  # Reducing quantity of purchased from inventory \n",
    "    bill_amount = bill_amount + total_price  \n",
    "    \n",
    "    # Creating sales dictionary\n",
    "    Sales[len(Sales)+1] = {\"prod_id\" : prod_id, \"price\" : total_price, \"quantity\" : qn, \"time\" : datetime.now().strftime(\"%d/%m/%Y %H:%M:%S\")}\n",
    "    \n",
    "    i = input(\"\\nDo you want to continue shopping? (Y/N) : \")\n",
    "    if (i == \"N\" or i == \"n\"):\n",
    "        flag = False\n",
    "    \n",
    "print(\"\\nBill Amount : \" + str(bill_amount))\n"
   ]
  },
  {
   "cell_type": "markdown",
   "metadata": {},
   "source": [
    "# Updating Inventory After Purchase"
   ]
  },
  {
   "cell_type": "code",
   "execution_count": null,
   "metadata": {},
   "outputs": [],
   "source": [
    "js = json.dumps(record)\n",
    "\n",
    "fd = open(\"Records.json\", 'w')\n",
    "fd.write(js)\n",
    "fd.close()"
   ]
  },
  {
   "cell_type": "markdown",
   "metadata": {},
   "source": [
    "# Sales"
   ]
  },
  {
   "cell_type": "code",
   "execution_count": null,
   "metadata": {},
   "outputs": [],
   "source": [
    "sale = json.dumps(Sales)"
   ]
  },
  {
   "cell_type": "code",
   "execution_count": null,
   "metadata": {},
   "outputs": [],
   "source": [
    "fd = open(\"sales.json\", 'w')\n",
    "fd.write(sale)\n",
    "fd.close()"
   ]
  }
 ],
 "metadata": {
  "kernelspec": {
   "display_name": "Python 3",
   "language": "python",
   "name": "python3"
  },
  "language_info": {
   "codemirror_mode": {
    "name": "ipython",
    "version": 3
   },
   "file_extension": ".py",
   "mimetype": "text/x-python",
   "name": "python",
   "nbconvert_exporter": "python",
   "pygments_lexer": "ipython3",
   "version": "3.8.5"
  }
 },
 "nbformat": 4,
 "nbformat_minor": 4
}
